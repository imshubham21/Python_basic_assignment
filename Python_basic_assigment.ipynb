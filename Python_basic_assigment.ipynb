{
 "cells": [
  {
   "cell_type": "markdown",
   "id": "963eeff5-181a-445e-8342-af159b68499d",
   "metadata": {},
   "source": [
    "## 1. Explain the key features of the Python that makes it a popular choices after programming?"
   ]
  },
  {
   "cell_type": "markdown",
   "id": "e3f80017-8473-456e-8476-6f0ba3e1f9b6",
   "metadata": {},
   "source": [
    "#### a. Readable and simple: \n",
    "~Python syntax is designed to be easy to read and understand, the use of identation for code blocks instead of braces enhances readiability and reduces the chances of errors. "
   ]
  },
  {
   "cell_type": "markdown",
   "id": "bc9e569c-3634-4fa4-a92a-f4cfd78d7875",
   "metadata": {},
   "source": [
    "#### b. Dynamic Typing: \n",
    "~Python allows to assign different data type to vaiables at runtime, that making it more flexible compared to satistically typed languages."
   ]
  },
  {
   "cell_type": "markdown",
   "id": "1e0a4376-8f0b-4fc7-9345-d591fc093adc",
   "metadata": {},
   "source": [
    "#### c. Versatility: \n",
    "~ Wide Range of Applications: Python is used in web development, data analysis, artificial intelligence, scientific computing, automation, and more.\n",
    "\n",
    "~ Python can easily integrate with other languages like C, C++, and Java, and it also works well with various technologies and platforms."
   ]
  },
  {
   "cell_type": "markdown",
   "id": "e9fc1625-9d44-44c1-bf09-472cb03f4e57",
   "metadata": {},
   "source": [
    "## 2. Describe the role of predefined keywords in Python and provide examples of how they are used in a program."
   ]
  },
  {
   "cell_type": "markdown",
   "id": "a259bdca-ecb8-4790-9cc8-78492da4a638",
   "metadata": {},
   "source": [
    "##### ~Keywords are predefined words in python that have a specific meaning and specific purpose. Keywords cannot be used as variable/identifier/class name."
   ]
  },
  {
   "cell_type": "code",
   "execution_count": 8,
   "id": "eb31c3db-132b-4ac3-b2c8-6d3918906e19",
   "metadata": {
    "tags": []
   },
   "outputs": [
    {
     "name": "stdout",
     "output_type": "stream",
     "text": [
      "\n",
      "Here is a list of the Python keywords.  Enter any keyword to get more help.\n",
      "\n",
      "False               class               from                or\n",
      "None                continue            global              pass\n",
      "True                def                 if                  raise\n",
      "and                 del                 import              return\n",
      "as                  elif                in                  try\n",
      "assert              else                is                  while\n",
      "async               except              lambda              with\n",
      "await               finally             nonlocal            yield\n",
      "break               for                 not                 \n",
      "\n"
     ]
    }
   ],
   "source": [
    "help (\"keywords\")"
   ]
  },
  {
   "cell_type": "markdown",
   "id": "60056b9e-fc8f-4995-8dc6-85bff49df419",
   "metadata": {
    "jp-MarkdownHeadingCollapsed": true,
    "tags": []
   },
   "source": [
    "#### Role & Uses :"
   ]
  },
  {
   "cell_type": "markdown",
   "id": "7c47aa69-1ea9-4496-b131-699c2bbd9bdd",
   "metadata": {},
   "source": [
    "#### \"if\": Used for conditional statements to execute code based on a condition. The block of code under if executes only if the condition is True."
   ]
  },
  {
   "cell_type": "code",
   "execution_count": 13,
   "id": "cc16b09a-956c-48b9-a6cf-1f5c46081405",
   "metadata": {},
   "outputs": [
    {
     "name": "stdout",
     "output_type": "stream",
     "text": [
      "x is greater than 5\n"
     ]
    }
   ],
   "source": [
    "x = 10\n",
    "if x > 5:\n",
    "    print(\"x is greater than 5\")"
   ]
  },
  {
   "cell_type": "markdown",
   "id": "adbd78ce-ab29-49bc-b829-10e082d70900",
   "metadata": {},
   "source": [
    "#### \"if-else\": excute the \"if\" block if condition is true else excute the \"else\" block."
   ]
  },
  {
   "cell_type": "code",
   "execution_count": 14,
   "id": "f0a44cef-18e1-41b7-9953-5cb5266563d8",
   "metadata": {},
   "outputs": [
    {
     "name": "stdout",
     "output_type": "stream",
     "text": [
      "I will play cricket\n"
     ]
    }
   ],
   "source": [
    "weather = \"sunny\"\n",
    "if weather == \"sunny\":\n",
    "           print (\"I will play cricket\")\n",
    "else: \n",
    "    print(\"I will watch movie\")"
   ]
  },
  {
   "cell_type": "markdown",
   "id": "b84d0823-ffc8-49a1-8ad9-e4c9dda553b6",
   "metadata": {},
   "source": [
    "#### \"elif\": statement is used in conjunction with if and else statements to handle multiple conditions."
   ]
  },
  {
   "cell_type": "code",
   "execution_count": 25,
   "id": "388c325e-67e3-412c-9c4a-28ea052c8f28",
   "metadata": {},
   "outputs": [
    {
     "name": "stdout",
     "output_type": "stream",
     "text": [
      "This block will be executed if a is lesser than 100\n"
     ]
    }
   ],
   "source": [
    "a=10\n",
    "if a>100:\n",
    "    print(\"This block will be executed if a is lesser than 100\")\n",
    "elif a<100:\n",
    "    print(\"This block will be executed if a is lesser than 100\")\n",
    "else:\n",
    "    print(\"The number is equals to 100\")"
   ]
  },
  {
   "cell_type": "markdown",
   "id": "124bd07c-170d-4b8c-b8e8-ef12f1fdcbae",
   "metadata": {},
   "source": [
    "#### \"for\": Used to iterate over a sequence (such as a list, tuple, or range). In the example, it prints numbers from 0 to 4."
   ]
  },
  {
   "cell_type": "code",
   "execution_count": 21,
   "id": "3fd49c09-7b63-46c6-b250-861fd7ea448b",
   "metadata": {},
   "outputs": [
    {
     "name": "stdout",
     "output_type": "stream",
     "text": [
      "0\n",
      "1\n",
      "2\n",
      "3\n",
      "4\n"
     ]
    }
   ],
   "source": [
    "for i in range(5):\n",
    "    print(i)"
   ]
  },
  {
   "cell_type": "markdown",
   "id": "04b8746b-c4f9-4e23-a98d-fe23f83f23ac",
   "metadata": {},
   "source": [
    "#### \"while\": Used to create a loop that continues as long as a condition is True. Here, the loop runs until count reaches 5."
   ]
  },
  {
   "cell_type": "code",
   "execution_count": 22,
   "id": "a6d71af9-f849-44c6-b69d-3899fb5ead74",
   "metadata": {},
   "outputs": [
    {
     "name": "stdout",
     "output_type": "stream",
     "text": [
      "0\n",
      "1\n",
      "2\n",
      "3\n",
      "4\n"
     ]
    }
   ],
   "source": [
    "count = 0\n",
    "while count < 5:\n",
    "    print(count)\n",
    "    count += 1"
   ]
  },
  {
   "cell_type": "markdown",
   "id": "18421518-f696-4866-87a3-58a304b7f858",
   "metadata": {},
   "source": [
    "#### \"continue\": Used to skip the iteration."
   ]
  },
  {
   "cell_type": "code",
   "execution_count": 9,
   "id": "37cd7a2d-22f2-43a3-9a81-180ca7102f0a",
   "metadata": {},
   "outputs": [
    {
     "name": "stdout",
     "output_type": "stream",
     "text": [
      "3\n",
      "4\n",
      "6\n",
      "7\n",
      "8\n",
      "this will be executed successfully when the while is run successfully without any break\n"
     ]
    }
   ],
   "source": [
    "n = 8\n",
    "i = 2\n",
    "while i < n:\n",
    "    i= i+1\n",
    "    if i==5:\n",
    "        continue\n",
    "    print(i)\n",
    "else:\n",
    "    print( \"this will be executed successfully when the while is run successfully without any break\" )"
   ]
  },
  {
   "cell_type": "markdown",
   "id": "f2edeed9-6db4-4147-ba0d-f7dcd8a82587",
   "metadata": {},
   "source": [
    "## 3. Compare and contrast mutable and immutable objects in Python with examples."
   ]
  },
  {
   "cell_type": "markdown",
   "id": "fc22554f-d510-4a3d-b1b1-7218d858a49b",
   "metadata": {},
   "source": [
    "#### Mutable object:\n",
    "Mutable objects can be modified after creation. Example include list, dictionary and set."
   ]
  },
  {
   "cell_type": "markdown",
   "id": "3fb8e103-a310-4439-a6d4-cae61ceb91da",
   "metadata": {},
   "source": [
    "### Characteristics:\n",
    "\n",
    "Changeable: You can modify the contents or state of the object without changing its identity.\n",
    "\n",
    "Examples: Lists, dictionaries, sets."
   ]
  },
  {
   "cell_type": "markdown",
   "id": "1b6027cf-cebb-437a-b03c-11803000e722",
   "metadata": {},
   "source": [
    "#### List:"
   ]
  },
  {
   "cell_type": "code",
   "execution_count": 36,
   "id": "d4d54966-b5f7-4c01-af3d-93dbdd6feeb2",
   "metadata": {},
   "outputs": [],
   "source": [
    "my_list=[1,2,3,2.6,\"Raj\"]\n",
    "my_list                                          # Changing the first element\n",
    "my_list[0] = 100      "
   ]
  },
  {
   "cell_type": "code",
   "execution_count": 34,
   "id": "93aaa157-1ff4-41a8-81a6-65fdf7641c16",
   "metadata": {},
   "outputs": [
    {
     "data": {
      "text/plain": [
       "[100, 2, 3, 2.6, 'Raj']"
      ]
     },
     "execution_count": 34,
     "metadata": {},
     "output_type": "execute_result"
    }
   ],
   "source": [
    "my_list"
   ]
  },
  {
   "cell_type": "markdown",
   "id": "a5c4c649-d9b8-4a04-8c20-25b8d7f5f6d6",
   "metadata": {},
   "source": [
    "#### Dictionaries:"
   ]
  },
  {
   "cell_type": "code",
   "execution_count": 37,
   "id": "7ed7adf7-69e1-4f32-872c-9ba7b1643e54",
   "metadata": {},
   "outputs": [
    {
     "name": "stdout",
     "output_type": "stream",
     "text": [
      "{'key1': 'new_value', 'key2': 'value2'}\n"
     ]
    }
   ],
   "source": [
    "my_dict = {'key1': 'value1', 'key2': 'value2'}\n",
    "my_dict['key1'] = 'new_value'               # Changing the value associated with 'key1'\n",
    "print(my_dict)                              "
   ]
  },
  {
   "cell_type": "markdown",
   "id": "f24ec2c0-b669-44cc-bce8-6e14466ab603",
   "metadata": {},
   "source": [
    "### Immutable Objects:\n"
   ]
  },
  {
   "cell_type": "markdown",
   "id": "7c377e4d-c98a-409f-a994-250869bbb00d",
   "metadata": {
    "jp-MarkdownHeadingCollapsed": true,
    "tags": []
   },
   "source": [
    "##### Immutable objects are those whose value or state cannot be changed after they have been created."
   ]
  },
  {
   "cell_type": "markdown",
   "id": "49baded5-1068-4c11-a13c-ab08abcaa2b0",
   "metadata": {},
   "source": [
    "#### Characteristics:\n",
    "Unchangeable: Any modification to the object results in the creation of a new object.\n",
    "\n",
    "Examples: Strings, tuples, integers, floats."
   ]
  },
  {
   "cell_type": "markdown",
   "id": "ce5b9abb-c8e4-4067-afa4-3b0e02c8d55e",
   "metadata": {},
   "source": [
    "#### Strings:"
   ]
  },
  {
   "cell_type": "code",
   "execution_count": 38,
   "id": "a7de33a1-6a23-47aa-981d-69447f1410fd",
   "metadata": {},
   "outputs": [
    {
     "name": "stdout",
     "output_type": "stream",
     "text": [
      "hello\n",
      "HELLO\n"
     ]
    }
   ],
   "source": [
    "my_string = \"hello\"\n",
    "new_string = my_string.upper()   # Creates a new string with uppercased characters\n",
    "print(my_string)                \n",
    "print(new_string)                "
   ]
  },
  {
   "cell_type": "markdown",
   "id": "228f820c-bd70-4458-8b06-88f4202bdce8",
   "metadata": {},
   "source": [
    "#### Tuples:"
   ]
  },
  {
   "cell_type": "code",
   "execution_count": 40,
   "id": "80a8282f-8feb-4fe6-ab59-9b8e776c862b",
   "metadata": {},
   "outputs": [
    {
     "name": "stdout",
     "output_type": "stream",
     "text": [
      "(1, 2, 3)\n",
      "(1, 2, 3, 4, 5)\n"
     ]
    }
   ],
   "source": [
    "my_tuple = (1, 2, 3)\n",
    "new_tuple = my_tuple + (4, 5)    # Concatenates and creates a new tuple\n",
    "print(my_tuple)                  \n",
    "print(new_tuple)                 "
   ]
  },
  {
   "cell_type": "markdown",
   "id": "1813eb15-c168-4c6c-9729-80fc67a4ab00",
   "metadata": {},
   "source": [
    "#### Integers:"
   ]
  },
  {
   "cell_type": "code",
   "execution_count": 41,
   "id": "b53da117-7078-4621-8263-b05fa1e63223",
   "metadata": {},
   "outputs": [
    {
     "name": "stdout",
     "output_type": "stream",
     "text": [
      "10\n",
      "15\n"
     ]
    }
   ],
   "source": [
    "a = 10\n",
    "b = a + 5       # Creates a new integer object\n",
    "print(a)        \n",
    "print(b)        "
   ]
  },
  {
   "cell_type": "markdown",
   "id": "7bfa51fb-6cce-4053-ae53-442d1af176eb",
   "metadata": {},
   "source": [
    "## 4. Discuss the different types of operator in Python and provide example of how they are used."
   ]
  },
  {
   "cell_type": "markdown",
   "id": "5d922d49-51e2-4dae-b1f5-a5cc30033873",
   "metadata": {},
   "source": [
    "#### Python has several types of operators, including:\n"
   ]
  },
  {
   "cell_type": "markdown",
   "id": "29640a85-b98f-4e76-9b05-b91dbe7b8598",
   "metadata": {},
   "source": [
    "### (a)- Arithmetic Operators:\n",
    "For mathematical calculations\n",
    "\n",
    "- Addition: a + b\n",
    "- Subtraction: a - b\n",
    "- Multiplication: a * b\n",
    "- Division: a / b\n",
    "- Modulus (remainder): a % b\n",
    "- Exponentiation: a ** b"
   ]
  },
  {
   "cell_type": "code",
   "execution_count": 2,
   "id": "ba95fa04-fbae-4b27-88f5-80d4de2096b1",
   "metadata": {},
   "outputs": [
    {
     "name": "stdout",
     "output_type": "stream",
     "text": [
      "10\n"
     ]
    }
   ],
   "source": [
    "x = 3\n",
    "y = 7\n",
    "print(x+y)"
   ]
  },
  {
   "cell_type": "markdown",
   "id": "bfb721f2-4dd6-4351-a62c-82b32ec342aa",
   "metadata": {},
   "source": [
    "### (b)- Comparison Operators:\n",
    "For evaluating conditions.\n",
    "​\n",
    "​\n",
    "​\n",
    "- Equal: a == b\n",
    "- Not Equal: a != b\n",
    "- Greater Than: a > b\n",
    "- Less Than: a < b\n",
    "- Greater Than or Equal: a >= b\n",
    "- Less Than or Equal: a <= b\n",
    "​"
   ]
  },
  {
   "cell_type": "code",
   "execution_count": 3,
   "id": "4f0fa292-7d7f-4f18-95e8-be170c5a700d",
   "metadata": {},
   "outputs": [
    {
     "name": "stdout",
     "output_type": "stream",
     "text": [
      "True\n"
     ]
    }
   ],
   "source": [
    "x = 3\n",
    "y = 7\n",
    "print(x<y)"
   ]
  },
  {
   "cell_type": "markdown",
   "id": "73ca0501-7bc8-4256-921a-85384e07d07b",
   "metadata": {},
   "source": [
    "### (c)- Logical Operators:\n",
    "For combining conditions.\n",
    "\n",
    "\n",
    "- And: a and b\n",
    "- Or: a or b\n",
    "- Not: not a\n"
   ]
  },
  {
   "cell_type": "code",
   "execution_count": 4,
   "id": "4d457ea8-34e7-4b9b-ae4f-013e448c47cc",
   "metadata": {},
   "outputs": [
    {
     "name": "stdout",
     "output_type": "stream",
     "text": [
      "False\n"
     ]
    }
   ],
   "source": [
    "x = True\n",
    "y = False\n",
    "print(x and y)"
   ]
  },
  {
   "cell_type": "markdown",
   "id": "9bb68475-b1cf-4005-a6c7-896e567e904d",
   "metadata": {},
   "source": [
    "### (d)- Assignment Operators:\n",
    "For assigning values.\n",
    "\n",
    "\n",
    "- Assign: a = b\n",
    "- Add and Assign: a += b\n",
    "- Subtract and Assign: a -= b\n",
    "- Multiply and Assign: a *= b\n",
    "- Divide and Assign: a /= b\n"
   ]
  },
  {
   "cell_type": "code",
   "execution_count": 5,
   "id": "92d5589f-f838-4112-82f6-aaa6cf1db103",
   "metadata": {},
   "outputs": [
    {
     "name": "stdout",
     "output_type": "stream",
     "text": [
      "13\n"
     ]
    }
   ],
   "source": [
    "x = 5\n",
    "x += 8\n",
    "print(x)"
   ]
  },
  {
   "cell_type": "markdown",
   "id": "eef71466-a8bc-44b5-9962-12b0ccfa391b",
   "metadata": {},
   "source": [
    "### (e)- Membership Operators:\n",
    "For checking presence in sequences.\n",
    "\n",
    "\n",
    "- In: a in b\n",
    "- Not In: a not in b\n"
   ]
  },
  {
   "cell_type": "code",
   "execution_count": 6,
   "id": "4bde9f92-f142-49a7-a06b-232065ea2958",
   "metadata": {},
   "outputs": [
    {
     "name": "stdout",
     "output_type": "stream",
     "text": [
      "True\n"
     ]
    }
   ],
   "source": [
    "x = [1,2,3]\n",
    "y = 3\n",
    "print(y in x)"
   ]
  },
  {
   "cell_type": "markdown",
   "id": "07a36017-8e5f-454c-a0f6-0322dc2eac57",
   "metadata": {},
   "source": [
    "### (f)- Identity Operators:\n",
    "For comparing object identities.\n",
    "\n",
    "- Is: a is b\n",
    "- Is Not: a is not b"
   ]
  },
  {
   "cell_type": "code",
   "execution_count": 7,
   "id": "2287f9ff-7265-405e-be89-b6f88421567d",
   "metadata": {},
   "outputs": [
    {
     "name": "stdout",
     "output_type": "stream",
     "text": [
      "True\n"
     ]
    }
   ],
   "source": [
    "x = [1,2,3]\n",
    "y = x\n",
    "print(x is y)"
   ]
  },
  {
   "cell_type": "markdown",
   "id": "c626a96d-cb6b-411e-84df-bbbc03cea1f3",
   "metadata": {},
   "source": [
    "## 5. Explain the concept of type casting in python with examples."
   ]
  },
  {
   "cell_type": "markdown",
   "id": "b2d0f54d-65ee-4885-b0f4-e1e4b6034ee7",
   "metadata": {},
   "source": [
    "#### Type casting/type conversion: \n",
    "In Python refers to the process of converting a value from one data type to another. This is useful when you need to perform operations that require specific data types or when you need to convert data to match the requirements of a particular function or operation."
   ]
  },
  {
   "cell_type": "markdown",
   "id": "2cef0ec1-20d9-470b-a292-e4b882cf45d9",
   "metadata": {},
   "source": [
    "### Implicit Type Casting:\n",
    "Automatic Type Conversion: Python automatically converts data types when necessary, without explicit instructions from the programmer.\n"
   ]
  },
  {
   "cell_type": "code",
   "execution_count": 47,
   "id": "d060c644-981b-453f-b836-dd24ac86ce36",
   "metadata": {},
   "outputs": [
    {
     "name": "stdout",
     "output_type": "stream",
     "text": [
      "19.0\n"
     ]
    },
    {
     "data": {
      "text/plain": [
       "float"
      ]
     },
     "execution_count": 47,
     "metadata": {},
     "output_type": "execute_result"
    }
   ],
   "source": [
    "x = 11           # int\n",
    "y = 8.0          # float\n",
    "result = x + y  # Implicitly converts x to float before addition\n",
    "print(result)   \n",
    "type(result)"
   ]
  },
  {
   "cell_type": "markdown",
   "id": "a98b25cc-1ec0-470a-b836-2d370632892e",
   "metadata": {},
   "source": [
    "#### Explanation: \n",
    "Here, x (an integer) is implicitly converted to a float during the addition operation with y (a float), resulting in a float."
   ]
  },
  {
   "cell_type": "markdown",
   "id": "7b42a154-197e-496f-8720-749661feaa3b",
   "metadata": {},
   "source": [
    "### Explicit Type Casting:\n",
    "Mannual Type conversion: This involves using built-in functions to explicitly convert a value from one type to another. This is useful when you want to control the conversion process.\n",
    "\n",
    "#### Functions:\n",
    "\n",
    "int(): Converts a value to an integer.\n",
    "\n",
    "float(): Converts a value to a float.\n",
    "\n",
    "str(): Converts a value to a string.\n",
    "\n",
    "bool(): Converts a value to a boolean."
   ]
  },
  {
   "cell_type": "code",
   "execution_count": 16,
   "id": "41da482c-53c9-46bc-8993-894cd8a73073",
   "metadata": {
    "tags": []
   },
   "outputs": [
    {
     "data": {
      "text/plain": [
       "int"
      ]
     },
     "execution_count": 16,
     "metadata": {},
     "output_type": "execute_result"
    }
   ],
   "source": [
    "string_number=\"98\"                       \n",
    "integer_number=int(string_number)      #string converted to integer\n",
    "type(integer_number)"
   ]
  },
  {
   "cell_type": "code",
   "execution_count": 3,
   "id": "da190afc-d6aa-4b69-83fe-cd1217640dbd",
   "metadata": {},
   "outputs": [
    {
     "data": {
      "text/plain": [
       "str"
      ]
     },
     "execution_count": 3,
     "metadata": {},
     "output_type": "execute_result"
    }
   ],
   "source": [
    "integer_number=87\n",
    "a=str(\"integer_number\")                 #integer converted to string\n",
    "type(a)"
   ]
  },
  {
   "cell_type": "code",
   "execution_count": 12,
   "id": "024fd4e7-c7e0-45b6-a6f9-9a2115a85efe",
   "metadata": {},
   "outputs": [
    {
     "data": {
      "text/plain": [
       "int"
      ]
     },
     "execution_count": 12,
     "metadata": {},
     "output_type": "execute_result"
    }
   ],
   "source": [
    "a= True\n",
    "integer_value=int(a)                     #boolean converted to int\n",
    "type(integer_value)"
   ]
  },
  {
   "cell_type": "code",
   "execution_count": 13,
   "id": "9ecc65f8-8ce8-40ca-ba5e-b28ce1a5350e",
   "metadata": {},
   "outputs": [
    {
     "data": {
      "text/plain": [
       "bool"
      ]
     },
     "execution_count": 13,
     "metadata": {},
     "output_type": "execute_result"
    }
   ],
   "source": [
    "integer_value=89\n",
    "boolean=bool(integer_value)             #interger converted to boolean\n",
    "type(boolean)"
   ]
  },
  {
   "cell_type": "markdown",
   "id": "58e9ed9f-5888-4c8b-8c3f-3391e64fae6d",
   "metadata": {},
   "source": [
    "### 6. How do conditional statements work in python? Illustrate with examples."
   ]
  },
  {
   "cell_type": "markdown",
   "id": "613e273f-9b56-424d-8d58-e8b7ad77be3c",
   "metadata": {},
   "source": [
    "### Conditional statements:\n",
    "It allows you to excute different code blocks based on specific conditions, Python uses the if, else, elif keywords for this purpose. "
   ]
  },
  {
   "cell_type": "code",
   "execution_count": 48,
   "id": "f46ab612-18ed-479b-a68f-3f6d7630aed4",
   "metadata": {},
   "outputs": [
    {
     "name": "stdout",
     "output_type": "stream",
     "text": [
      "I will play cricket\n"
     ]
    }
   ],
   "source": [
    "weather = \"sunny\"\n",
    "if weather == \"sunny\":\n",
    "           print (\"I will play cricket\")\n",
    "else: \n",
    "    print(\"I will watch movie\")"
   ]
  },
  {
   "cell_type": "code",
   "execution_count": 49,
   "id": "5163942c-0304-477f-b618-6f2928499bd6",
   "metadata": {},
   "outputs": [
    {
     "name": "stdout",
     "output_type": "stream",
     "text": [
      "Go marry and ruin your life\n"
     ]
    }
   ],
   "source": [
    "age= 21\n",
    "if age >=21:\n",
    "    print(\"Go marry and ruin your life\")\n",
    "else:\n",
    "    print(\"You're safe\")"
   ]
  },
  {
   "cell_type": "markdown",
   "id": "dceac1ac-9e2b-4d6f-ade4-0f4aaf942890",
   "metadata": {},
   "source": [
    "### 7. Describe the different types of loops in python and their use case with examples."
   ]
  },
  {
   "cell_type": "markdown",
   "id": "55e1c3f6-3601-4a31-a311-8691c0e4bec5",
   "metadata": {},
   "source": [
    "#### Loop condition:\n",
    "In Python, loops are used to execute a block of code repeatedly based on certain conditions.There are two primary types of loops in Python: \"for\" loops and \"while\" loops. Each has its own use cases and characteristics. "
   ]
  },
  {
   "cell_type": "markdown",
   "id": "4f148b1f-e666-4f30-a73d-c3ac3cb762d2",
   "metadata": {},
   "source": [
    "#### a. \"for\" Loop:\n",
    "The 'for' loop in Python iterates over a sequence of elements (such as a list, tuple, dictionary, set, or string) and executes a block of code for each element in the sequence."
   ]
  },
  {
   "cell_type": "code",
   "execution_count": 53,
   "id": "20b2081a-b559-41d9-bc0b-01404cf15f53",
   "metadata": {},
   "outputs": [
    {
     "name": "stdout",
     "output_type": "stream",
     "text": [
      "apple\n",
      "mango\n",
      "banana\n"
     ]
    }
   ],
   "source": [
    "fruits = ['apple', 'mango', 'banana']\n",
    "for fruit in fruits:\n",
    "    print(fruit)"
   ]
  },
  {
   "cell_type": "code",
   "execution_count": 52,
   "id": "9f259de5-07d5-462f-bd1a-9a0832fb7006",
   "metadata": {},
   "outputs": [
    {
     "name": "stdout",
     "output_type": "stream",
     "text": [
      "Key: a, Value: 1\n",
      "Key: b, Value: 2\n",
      "Key: c, Value: 3\n"
     ]
    }
   ],
   "source": [
    "my_dict = {'a': 1, 'b': 2, 'c': 3}\n",
    "for key, value in my_dict.items():\n",
    "    print(f\"Key: {key}, Value: {value}\")"
   ]
  },
  {
   "cell_type": "markdown",
   "id": "9880a7b9-f00e-4ac9-b634-f99751ff4cc4",
   "metadata": {},
   "source": [
    "#### b. \"while\" Loop:\n",
    "The 'while' loop repeatedly executes a block of code as long as a specified condition is 'True'. The loop will terminate when the condition becomes 'False'."
   ]
  },
  {
   "cell_type": "code",
   "execution_count": 55,
   "id": "bcf60727-54fa-41b3-a109-3575968de46f",
   "metadata": {},
   "outputs": [
    {
     "name": "stdout",
     "output_type": "stream",
     "text": [
      "5\n",
      "4\n",
      "3\n",
      "2\n",
      "1\n"
     ]
    }
   ],
   "source": [
    "count = 5\n",
    "while count > 0:\n",
    "    print(count)\n",
    "    count -= 1\n",
    "# Output:\n",
    "# 5\n",
    "# 4\n",
    "# 3\n",
    "# 2\n",
    "# 1"
   ]
  },
  {
   "cell_type": "code",
   "execution_count": null,
   "id": "4c530f5f-e47c-4632-b117-fdc20f1257b8",
   "metadata": {},
   "outputs": [],
   "source": [
    "while True:\n",
    "    user_input = input(\"Enter 'exit' to quit: \")\n",
    "    if user_input == 'exit':\n",
    "        break\n",
    "# This loop will continue until the user enters 'exit'"
   ]
  }
 ],
 "metadata": {
  "kernelspec": {
   "display_name": "Python 3 (ipykernel)",
   "language": "python",
   "name": "python3"
  },
  "language_info": {
   "codemirror_mode": {
    "name": "ipython",
    "version": 3
   },
   "file_extension": ".py",
   "mimetype": "text/x-python",
   "name": "python",
   "nbconvert_exporter": "python",
   "pygments_lexer": "ipython3",
   "version": "3.10.8"
  }
 },
 "nbformat": 4,
 "nbformat_minor": 5
}
